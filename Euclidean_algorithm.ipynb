{
 "cells": [
  {
   "cell_type": "markdown",
   "id": "3c86c43e",
   "metadata": {},
   "source": [
    "# Algorytm Euklidesa (Euclidean Algorithm)\n",
    "\n",
    "## Wprowadzenie\n",
    "\n",
    "Algorytm Euklidesa to jeden z najstarszych znanych algorytmów numerycznych, który służy do wyznaczania największego wspólnego dzielnika (NWD) dwóch liczb całkowitych. Został opisany przez Euklidesa w jego dziele *Elementy* około 300 roku p.n.e.\n",
    "\n",
    "NWD dwóch liczb to największa liczba, przez którą obie liczby dzielą się bez reszty.\n",
    "\n",
    "---\n",
    "\n",
    "## Zasada działania algorytmu\n",
    "\n",
    "Algorytm opiera się na następującej obserwacji:\n",
    "\n",
    "> NWD(a, b) = NWD(b, a mod b)\n",
    "\n",
    "Czyli:\n",
    "- Jeżeli `b` wynosi 0, to `a` jest największym wspólnym dzielnikiem.\n",
    "- W przeciwnym razie zamieniamy `a` na `b`, a `b` na `a % b` i powtarzamy procedurę.\n",
    "\n",
    "---\n",
    "\n",
    "## Algorytm krok po kroku\n",
    "\n",
    "Dla danych dwóch liczb całkowitych `a` i `b`, algorytm wykonuje:\n",
    "\n",
    "1. Sprawdzenie, czy `b == 0`:\n",
    "    - Jeśli tak → zwróć `a` jako NWD.\n",
    "2. Jeśli nie:\n",
    "    - Oblicz resztę z dzielenia `a % b`.\n",
    "    - Podstaw: `a ← b`, `b ← a % b`.\n",
    "3. Wróć do kroku 1.\n",
    "\n",
    "---\n",
    "\n",
    "## Przykład działania\n",
    "\n",
    "Znajdźmy NWD dla liczb `1071` i `462`.\n",
    "\n",
    "### Obliczenia:\n",
    "\n",
    "- `1071 % 462 = 147`\n",
    "- `462 % 147 = 21`\n",
    "- `147 % 21 = 0` → koniec\n",
    "\n",
    "Zatem `NWD(1071, 462) = 21`\n",
    "\n",
    "---\n",
    "\n",
    "## Implementacja w Pythonie\n"
   ]
  },
  {
   "cell_type": "code",
   "execution_count": 2,
   "id": "f397ef88",
   "metadata": {},
   "outputs": [
    {
     "name": "stdout",
     "output_type": "stream",
     "text": [
      "NWD(1071, 462) = 21\n",
      "\n",
      "Kolejne kroki:\n",
      "Krok 1: 1071 % 462 = 147\n",
      "Krok 2: 462 % 147 = 21\n",
      "Krok 3: 147 % 21 = 0\n",
      "Krok 4: koniec, ponieważ reszta = 0 → NWD = 21\n"
     ]
    }
   ],
   "source": [
    "def euclidean_gcd(a, b):\n",
    "    steps = []\n",
    "    while b != 0:\n",
    "        steps.append((a, b, a % b))\n",
    "        a, b = b, a % b\n",
    "    steps.append((a, 0, None))  # końcowy krok\n",
    "    return a, steps\n",
    "\n",
    "# Przykład\n",
    "a, b = 1071, 462\n",
    "gcd, steps = euclidean_gcd(a, b)\n",
    "\n",
    "print(f\"NWD({a}, {b}) = {gcd}\\n\")\n",
    "print(\"Kolejne kroki:\")\n",
    "for i, (x, y, r) in enumerate(steps):\n",
    "    if r is not None:\n",
    "        print(f\"Krok {i+1}: {x} % {y} = {r}\")\n",
    "    else:\n",
    "        print(f\"Krok {i+1}: koniec, ponieważ reszta = 0 → NWD = {x}\")\n"
   ]
  }
 ],
 "metadata": {
  "kernelspec": {
   "display_name": "Python 3",
   "language": "python",
   "name": "python3"
  },
  "language_info": {
   "codemirror_mode": {
    "name": "ipython",
    "version": 3
   },
   "file_extension": ".py",
   "mimetype": "text/x-python",
   "name": "python",
   "nbconvert_exporter": "python",
   "pygments_lexer": "ipython3",
   "version": "3.12.1"
  }
 },
 "nbformat": 4,
 "nbformat_minor": 5
}
